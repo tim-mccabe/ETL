{
 "cells": [
  {
   "cell_type": "code",
   "execution_count": 28,
   "metadata": {},
   "outputs": [],
   "source": [
    "import pandas as pd\n",
    "import numpy as np\n",
    "from sqlalchemy import create_engine"
   ]
  },
  {
   "cell_type": "code",
   "execution_count": 18,
   "metadata": {},
   "outputs": [],
   "source": [
    "ela_0612_csv = \"Resources/2006-2012-english-language-arts-ela-test-results-charter-schools-1.csv\"\n",
    "ela_1317_csv = \"Resources/2013-2017-charter-school-ela-results-all-1.csv\"\n",
    "eladf_0612 = pd.read_csv(ela_0612_csv)\n",
    "eladf_1317 = pd.read_csv(ela_1317_csv)"
   ]
  },
  {
   "cell_type": "code",
   "execution_count": 19,
   "metadata": {},
   "outputs": [
    {
     "data": {
      "text/html": [
       "<div>\n",
       "<style scoped>\n",
       "    .dataframe tbody tr th:only-of-type {\n",
       "        vertical-align: middle;\n",
       "    }\n",
       "\n",
       "    .dataframe tbody tr th {\n",
       "        vertical-align: top;\n",
       "    }\n",
       "\n",
       "    .dataframe thead th {\n",
       "        text-align: right;\n",
       "    }\n",
       "</style>\n",
       "<table border=\"1\" class=\"dataframe\">\n",
       "  <thead>\n",
       "    <tr style=\"text-align: right;\">\n",
       "      <th></th>\n",
       "      <th>DBN</th>\n",
       "      <th>School Name</th>\n",
       "      <th>Grade</th>\n",
       "      <th>Year</th>\n",
       "      <th>Category</th>\n",
       "      <th>Number Tested</th>\n",
       "      <th>Mean Scale Score</th>\n",
       "      <th>Level1_N</th>\n",
       "      <th>Level1_%</th>\n",
       "      <th>Level2_N</th>\n",
       "      <th>Level2_%</th>\n",
       "      <th>Level3_N</th>\n",
       "      <th>Level3_%</th>\n",
       "      <th>Level4_N</th>\n",
       "      <th>Level4_%</th>\n",
       "      <th>Level3+4_N</th>\n",
       "      <th>Level3+4_%</th>\n",
       "    </tr>\n",
       "  </thead>\n",
       "  <tbody>\n",
       "    <tr>\n",
       "      <td>0</td>\n",
       "      <td>84K037</td>\n",
       "      <td>BEGINNING WITH CHILDREN CHARTER SCHOOL II</td>\n",
       "      <td>3</td>\n",
       "      <td>2015</td>\n",
       "      <td>All Students</td>\n",
       "      <td>43</td>\n",
       "      <td>306</td>\n",
       "      <td>9</td>\n",
       "      <td>20.9</td>\n",
       "      <td>20</td>\n",
       "      <td>46.5</td>\n",
       "      <td>13</td>\n",
       "      <td>30.2</td>\n",
       "      <td>1</td>\n",
       "      <td>2.3</td>\n",
       "      <td>14</td>\n",
       "      <td>32.6</td>\n",
       "    </tr>\n",
       "    <tr>\n",
       "      <td>1</td>\n",
       "      <td>84K037</td>\n",
       "      <td>BEGINNING WITH CHILDREN CHARTER SCHOOL II</td>\n",
       "      <td>3</td>\n",
       "      <td>2016</td>\n",
       "      <td>All Students</td>\n",
       "      <td>52</td>\n",
       "      <td>319</td>\n",
       "      <td>4</td>\n",
       "      <td>7.7</td>\n",
       "      <td>20</td>\n",
       "      <td>38.5</td>\n",
       "      <td>25</td>\n",
       "      <td>48.1</td>\n",
       "      <td>3</td>\n",
       "      <td>5.8</td>\n",
       "      <td>28</td>\n",
       "      <td>53.8</td>\n",
       "    </tr>\n",
       "    <tr>\n",
       "      <td>2</td>\n",
       "      <td>84K037</td>\n",
       "      <td>BEGINNING WITH CHILDREN CHARTER SCHOOL II</td>\n",
       "      <td>3</td>\n",
       "      <td>2017</td>\n",
       "      <td>All Students</td>\n",
       "      <td>50</td>\n",
       "      <td>323</td>\n",
       "      <td>2</td>\n",
       "      <td>4</td>\n",
       "      <td>16</td>\n",
       "      <td>32</td>\n",
       "      <td>29</td>\n",
       "      <td>58</td>\n",
       "      <td>3</td>\n",
       "      <td>6</td>\n",
       "      <td>32</td>\n",
       "      <td>64</td>\n",
       "    </tr>\n",
       "    <tr>\n",
       "      <td>3</td>\n",
       "      <td>84K037</td>\n",
       "      <td>BEGINNING WITH CHILDREN CHARTER SCHOOL II</td>\n",
       "      <td>4</td>\n",
       "      <td>2016</td>\n",
       "      <td>All Students</td>\n",
       "      <td>40</td>\n",
       "      <td>315</td>\n",
       "      <td>4</td>\n",
       "      <td>10</td>\n",
       "      <td>18</td>\n",
       "      <td>45</td>\n",
       "      <td>14</td>\n",
       "      <td>35</td>\n",
       "      <td>4</td>\n",
       "      <td>10</td>\n",
       "      <td>18</td>\n",
       "      <td>45</td>\n",
       "    </tr>\n",
       "    <tr>\n",
       "      <td>4</td>\n",
       "      <td>84K037</td>\n",
       "      <td>BEGINNING WITH CHILDREN CHARTER SCHOOL II</td>\n",
       "      <td>4</td>\n",
       "      <td>2017</td>\n",
       "      <td>All Students</td>\n",
       "      <td>52</td>\n",
       "      <td>320</td>\n",
       "      <td>4</td>\n",
       "      <td>7.7</td>\n",
       "      <td>18</td>\n",
       "      <td>34.6</td>\n",
       "      <td>21</td>\n",
       "      <td>40.4</td>\n",
       "      <td>9</td>\n",
       "      <td>17.3</td>\n",
       "      <td>30</td>\n",
       "      <td>57.7</td>\n",
       "    </tr>\n",
       "  </tbody>\n",
       "</table>\n",
       "</div>"
      ],
      "text/plain": [
       "      DBN                                School Name Grade  Year  \\\n",
       "0  84K037  BEGINNING WITH CHILDREN CHARTER SCHOOL II     3  2015   \n",
       "1  84K037  BEGINNING WITH CHILDREN CHARTER SCHOOL II     3  2016   \n",
       "2  84K037  BEGINNING WITH CHILDREN CHARTER SCHOOL II     3  2017   \n",
       "3  84K037  BEGINNING WITH CHILDREN CHARTER SCHOOL II     4  2016   \n",
       "4  84K037  BEGINNING WITH CHILDREN CHARTER SCHOOL II     4  2017   \n",
       "\n",
       "       Category  Number Tested Mean Scale Score Level1_N Level1_% Level2_N  \\\n",
       "0  All Students             43              306        9     20.9       20   \n",
       "1  All Students             52              319        4      7.7       20   \n",
       "2  All Students             50              323        2        4       16   \n",
       "3  All Students             40              315        4       10       18   \n",
       "4  All Students             52              320        4      7.7       18   \n",
       "\n",
       "  Level2_% Level3_N Level3_% Level4_N Level4_% Level3+4_N Level3+4_%  \n",
       "0     46.5       13     30.2        1      2.3         14       32.6  \n",
       "1     38.5       25     48.1        3      5.8         28       53.8  \n",
       "2       32       29       58        3        6         32         64  \n",
       "3       45       14       35        4       10         18         45  \n",
       "4     34.6       21     40.4        9     17.3         30       57.7  "
      ]
     },
     "execution_count": 19,
     "metadata": {},
     "output_type": "execute_result"
    }
   ],
   "source": [
    "eladf_1317.head()"
   ]
  },
  {
   "cell_type": "code",
   "execution_count": 20,
   "metadata": {},
   "outputs": [],
   "source": [
    "eladf_1317 = eladf_1317[eladf_1317.Grade != 'All Grades']\n",
    "eladf_0612 = eladf_0612[eladf_0612.Grade != 'All Grades']"
   ]
  },
  {
   "cell_type": "code",
   "execution_count": 21,
   "metadata": {},
   "outputs": [],
   "source": [
    "eladf_1317 = eladf_1317[eladf_1317.Grade == '3']\n",
    "eladf_0612 = eladf_0612[eladf_0612.Grade == '3']"
   ]
  },
  {
   "cell_type": "code",
   "execution_count": 22,
   "metadata": {},
   "outputs": [],
   "source": [
    "ela_cols = ['DBN','Grade','Year','Number Tested','Mean Scale Score']\n",
    "eladf_1317 = eladf_1317[ela_cols]\n",
    "eladf_0612 = eladf_0612[ela_cols]"
   ]
  },
  {
   "cell_type": "code",
   "execution_count": 23,
   "metadata": {},
   "outputs": [
    {
     "data": {
      "text/html": [
       "<div>\n",
       "<style scoped>\n",
       "    .dataframe tbody tr th:only-of-type {\n",
       "        vertical-align: middle;\n",
       "    }\n",
       "\n",
       "    .dataframe tbody tr th {\n",
       "        vertical-align: top;\n",
       "    }\n",
       "\n",
       "    .dataframe thead th {\n",
       "        text-align: right;\n",
       "    }\n",
       "</style>\n",
       "<table border=\"1\" class=\"dataframe\">\n",
       "  <thead>\n",
       "    <tr style=\"text-align: right;\">\n",
       "      <th></th>\n",
       "      <th>DBN</th>\n",
       "      <th>Grade</th>\n",
       "      <th>Year</th>\n",
       "      <th>Number Tested</th>\n",
       "      <th>Mean Scale Score</th>\n",
       "    </tr>\n",
       "  </thead>\n",
       "  <tbody>\n",
       "    <tr>\n",
       "      <td>0</td>\n",
       "      <td>84K037</td>\n",
       "      <td>3</td>\n",
       "      <td>2015</td>\n",
       "      <td>43</td>\n",
       "      <td>306</td>\n",
       "    </tr>\n",
       "    <tr>\n",
       "      <td>1</td>\n",
       "      <td>84K037</td>\n",
       "      <td>3</td>\n",
       "      <td>2016</td>\n",
       "      <td>52</td>\n",
       "      <td>319</td>\n",
       "    </tr>\n",
       "    <tr>\n",
       "      <td>2</td>\n",
       "      <td>84K037</td>\n",
       "      <td>3</td>\n",
       "      <td>2017</td>\n",
       "      <td>50</td>\n",
       "      <td>323</td>\n",
       "    </tr>\n",
       "    <tr>\n",
       "      <td>9</td>\n",
       "      <td>84K125</td>\n",
       "      <td>3</td>\n",
       "      <td>2015</td>\n",
       "      <td>56</td>\n",
       "      <td>322</td>\n",
       "    </tr>\n",
       "    <tr>\n",
       "      <td>10</td>\n",
       "      <td>84K125</td>\n",
       "      <td>3</td>\n",
       "      <td>2016</td>\n",
       "      <td>78</td>\n",
       "      <td>340</td>\n",
       "    </tr>\n",
       "  </tbody>\n",
       "</table>\n",
       "</div>"
      ],
      "text/plain": [
       "       DBN Grade  Year  Number Tested Mean Scale Score\n",
       "0   84K037     3  2015             43              306\n",
       "1   84K037     3  2016             52              319\n",
       "2   84K037     3  2017             50              323\n",
       "9   84K125     3  2015             56              322\n",
       "10  84K125     3  2016             78              340"
      ]
     },
     "execution_count": 23,
     "metadata": {},
     "output_type": "execute_result"
    }
   ],
   "source": [
    "eladf_1317.head()"
   ]
  },
  {
   "cell_type": "code",
   "execution_count": 24,
   "metadata": {},
   "outputs": [],
   "source": [
    "eladf_1317 = eladf_1317.rename(columns={\"DBN\": \"dbn\", \"Grade\": \"grade\", \"Year\": \"year\",\"Number Tested\": \"number_tested\", \"Mean Scale Score\": \"mean_scale_score\"})\n",
    "eladf_0612 = eladf_0612.rename(columns={\"DBN\": \"dbn\", \"Grade\": \"grade\", \"Year\": \"year\",\"Number Tested\": \"number_tested\", \"Mean Scale Score\": \"mean_scale_score\"})"
   ]
  },
  {
   "cell_type": "code",
   "execution_count": 25,
   "metadata": {},
   "outputs": [],
   "source": [
    "#eladf_1317 = eladf_1317.groupby('DBN')\n",
    "#eladf_0612 = eladf_0612.groupby('DBN')\n",
    "#eladf_1317.first()"
   ]
  },
  {
   "cell_type": "code",
   "execution_count": 26,
   "metadata": {},
   "outputs": [],
   "source": [
    "#eladf_0612.first()"
   ]
  },
  {
   "cell_type": "code",
   "execution_count": 29,
   "metadata": {},
   "outputs": [],
   "source": [
    "rds_connection_string = \"postgres:Fairfield66@localhost:5432/ETL_Project\"\n",
    "engine = create_engine(f'postgresql://{rds_connection_string}')"
   ]
  },
  {
   "cell_type": "code",
   "execution_count": 30,
   "metadata": {},
   "outputs": [
    {
     "data": {
      "text/plain": [
       "['math_06_12', 'ela_06_12', 'math_13_17', 'ela_13_17']"
      ]
     },
     "execution_count": 30,
     "metadata": {},
     "output_type": "execute_result"
    }
   ],
   "source": [
    "engine.table_names()"
   ]
  },
  {
   "cell_type": "code",
   "execution_count": 31,
   "metadata": {},
   "outputs": [],
   "source": [
    "eladf_1317.to_sql(name='ela_13_17', con=engine, if_exists='append', index=False)"
   ]
  },
  {
   "cell_type": "code",
   "execution_count": 32,
   "metadata": {},
   "outputs": [
    {
     "data": {
      "text/html": [
       "<div>\n",
       "<style scoped>\n",
       "    .dataframe tbody tr th:only-of-type {\n",
       "        vertical-align: middle;\n",
       "    }\n",
       "\n",
       "    .dataframe tbody tr th {\n",
       "        vertical-align: top;\n",
       "    }\n",
       "\n",
       "    .dataframe thead th {\n",
       "        text-align: right;\n",
       "    }\n",
       "</style>\n",
       "<table border=\"1\" class=\"dataframe\">\n",
       "  <thead>\n",
       "    <tr style=\"text-align: right;\">\n",
       "      <th></th>\n",
       "      <th>dbn</th>\n",
       "      <th>grade</th>\n",
       "      <th>year</th>\n",
       "      <th>number_tested</th>\n",
       "      <th>mean_scale_score</th>\n",
       "    </tr>\n",
       "  </thead>\n",
       "  <tbody>\n",
       "    <tr>\n",
       "      <td>0</td>\n",
       "      <td>84K037</td>\n",
       "      <td>3</td>\n",
       "      <td>2015</td>\n",
       "      <td>43</td>\n",
       "      <td>306</td>\n",
       "    </tr>\n",
       "    <tr>\n",
       "      <td>1</td>\n",
       "      <td>84K037</td>\n",
       "      <td>3</td>\n",
       "      <td>2016</td>\n",
       "      <td>52</td>\n",
       "      <td>319</td>\n",
       "    </tr>\n",
       "    <tr>\n",
       "      <td>2</td>\n",
       "      <td>84K037</td>\n",
       "      <td>3</td>\n",
       "      <td>2017</td>\n",
       "      <td>50</td>\n",
       "      <td>323</td>\n",
       "    </tr>\n",
       "    <tr>\n",
       "      <td>3</td>\n",
       "      <td>84K125</td>\n",
       "      <td>3</td>\n",
       "      <td>2015</td>\n",
       "      <td>56</td>\n",
       "      <td>322</td>\n",
       "    </tr>\n",
       "    <tr>\n",
       "      <td>4</td>\n",
       "      <td>84K125</td>\n",
       "      <td>3</td>\n",
       "      <td>2016</td>\n",
       "      <td>78</td>\n",
       "      <td>340</td>\n",
       "    </tr>\n",
       "  </tbody>\n",
       "</table>\n",
       "</div>"
      ],
      "text/plain": [
       "      dbn  grade  year  number_tested  mean_scale_score\n",
       "0  84K037      3  2015             43               306\n",
       "1  84K037      3  2016             52               319\n",
       "2  84K037      3  2017             50               323\n",
       "3  84K125      3  2015             56               322\n",
       "4  84K125      3  2016             78               340"
      ]
     },
     "execution_count": 32,
     "metadata": {},
     "output_type": "execute_result"
    }
   ],
   "source": [
    "pd.read_sql_query('select * from ela_13_17', con=engine).head()"
   ]
  },
  {
   "cell_type": "code",
   "execution_count": 33,
   "metadata": {},
   "outputs": [],
   "source": [
    "eladf_0612.to_sql(name='ela_06_12', con=engine, if_exists='append', index=False)"
   ]
  },
  {
   "cell_type": "code",
   "execution_count": 34,
   "metadata": {},
   "outputs": [
    {
     "data": {
      "text/html": [
       "<div>\n",
       "<style scoped>\n",
       "    .dataframe tbody tr th:only-of-type {\n",
       "        vertical-align: middle;\n",
       "    }\n",
       "\n",
       "    .dataframe tbody tr th {\n",
       "        vertical-align: top;\n",
       "    }\n",
       "\n",
       "    .dataframe thead th {\n",
       "        text-align: right;\n",
       "    }\n",
       "</style>\n",
       "<table border=\"1\" class=\"dataframe\">\n",
       "  <thead>\n",
       "    <tr style=\"text-align: right;\">\n",
       "      <th></th>\n",
       "      <th>dbn</th>\n",
       "      <th>grade</th>\n",
       "      <th>year</th>\n",
       "      <th>number_tested</th>\n",
       "      <th>mean_scale_score</th>\n",
       "    </tr>\n",
       "  </thead>\n",
       "  <tbody>\n",
       "    <tr>\n",
       "      <td>0</td>\n",
       "      <td>84K356</td>\n",
       "      <td>3</td>\n",
       "      <td>2008</td>\n",
       "      <td>85</td>\n",
       "      <td>682</td>\n",
       "    </tr>\n",
       "    <tr>\n",
       "      <td>1</td>\n",
       "      <td>84K356</td>\n",
       "      <td>3</td>\n",
       "      <td>2009</td>\n",
       "      <td>76</td>\n",
       "      <td>675</td>\n",
       "    </tr>\n",
       "    <tr>\n",
       "      <td>2</td>\n",
       "      <td>84K356</td>\n",
       "      <td>3</td>\n",
       "      <td>2010</td>\n",
       "      <td>86</td>\n",
       "      <td>668</td>\n",
       "    </tr>\n",
       "    <tr>\n",
       "      <td>3</td>\n",
       "      <td>84K356</td>\n",
       "      <td>3</td>\n",
       "      <td>2011</td>\n",
       "      <td>78</td>\n",
       "      <td>669</td>\n",
       "    </tr>\n",
       "    <tr>\n",
       "      <td>4</td>\n",
       "      <td>84K356</td>\n",
       "      <td>3</td>\n",
       "      <td>2012</td>\n",
       "      <td>69</td>\n",
       "      <td>669</td>\n",
       "    </tr>\n",
       "  </tbody>\n",
       "</table>\n",
       "</div>"
      ],
      "text/plain": [
       "      dbn  grade  year  number_tested  mean_scale_score\n",
       "0  84K356      3  2008             85               682\n",
       "1  84K356      3  2009             76               675\n",
       "2  84K356      3  2010             86               668\n",
       "3  84K356      3  2011             78               669\n",
       "4  84K356      3  2012             69               669"
      ]
     },
     "execution_count": 34,
     "metadata": {},
     "output_type": "execute_result"
    }
   ],
   "source": [
    "pd.read_sql_query('select * from ela_06_12', con=engine).head()"
   ]
  },
  {
   "cell_type": "code",
   "execution_count": null,
   "metadata": {},
   "outputs": [],
   "source": []
  },
  {
   "cell_type": "code",
   "execution_count": null,
   "metadata": {},
   "outputs": [],
   "source": []
  }
 ],
 "metadata": {
  "kernelspec": {
   "display_name": "Python 3",
   "language": "python",
   "name": "python3"
  },
  "language_info": {
   "codemirror_mode": {
    "name": "ipython",
    "version": 3
   },
   "file_extension": ".py",
   "mimetype": "text/x-python",
   "name": "python",
   "nbconvert_exporter": "python",
   "pygments_lexer": "ipython3",
   "version": "3.7.4"
  }
 },
 "nbformat": 4,
 "nbformat_minor": 2
}
